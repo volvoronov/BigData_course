{
 "cells": [
  {
   "cell_type": "code",
   "execution_count": 1,
   "metadata": {},
   "outputs": [],
   "source": [
    "from pyhive import hive"
   ]
  },
  {
   "cell_type": "code",
   "execution_count": 2,
   "metadata": {},
   "outputs": [],
   "source": [
    "# Establish connection to hive on docker\n",
    "conn = hive.Connection(host=\"localhost\", port=10000, username=\"hadoop\")"
   ]
  },
  {
   "cell_type": "code",
   "execution_count": 5,
   "metadata": {},
   "outputs": [
    {
     "name": "stdout",
     "output_type": "stream",
     "text": [
      "[(1, 'Rudolf Bardin', 30, 'cashier', 100, 'New York', 40000, 5), (2, 'Rob Trask', 22, 'driver', 100, 'New York', 50000, 4), (3, 'Madie Nakamura', 20, 'janitor', 100, 'New York', 30000, 4), (4, 'Alesha Huntley', 40, 'cashier', 101, 'Los Angeles', 40000, 10), (5, 'Iva Moose', 50, 'cashier', 102, 'Phoenix', 50000, 20)]\n"
     ]
    }
   ],
   "source": [
    "# print all employees\n",
    "cursor = conn.cursor()\n",
    "cursor.execute(\"SELECT * FROM testdb.employee\")\n",
    "print(cursor.fetchall())"
   ]
  },
  {
   "cell_type": "code",
   "execution_count": 6,
   "metadata": {},
   "outputs": [
    {
     "name": "stdout",
     "output_type": "stream",
     "text": [
      "(1, 'Rudolf Bardin', 30, 'cashier', 100, 'New York', 40000, 5)\n",
      "(2, 'Rob Trask', 22, 'driver', 100, 'New York', 50000, 4)\n",
      "(4, 'Alesha Huntley', 40, 'cashier', 101, 'Los Angeles', 40000, 10)\n",
      "(5, 'Iva Moose', 50, 'cashier', 102, 'Phoenix', 50000, 20)\n"
     ]
    }
   ],
   "source": [
    "# Conditional SELECT querry with better formatting\n",
    "cursor.execute(\"SELECT * FROM testdb.employee WHERE salary > 30000\")\n",
    "for result in cursor.fetchall():\n",
    "    print(result)"
   ]
  },
  {
   "cell_type": "code",
   "execution_count": 7,
   "metadata": {},
   "outputs": [
    {
     "name": "stdout",
     "output_type": "stream",
     "text": [
      "(4, 'Alesha Huntley', 40, 'cashier', 101, 'Los Angeles', 40000, 10)\n",
      "(1, 'Rudolf Bardin', 30, 'cashier', 100, 'New York', 40000, 5)\n",
      "(5, 'Iva Moose', 50, 'cashier', 102, 'Phoenix', 50000, 20)\n",
      "(2, 'Rob Trask', 22, 'driver', 100, 'New York', 50000, 4)\n"
     ]
    }
   ],
   "source": [
    "# Query with ORDER BY\n",
    "cursor.execute(\"SELECT * FROM testdb.employee WHERE salary > 30000 ORDER BY salary\")\n",
    "for result in cursor.fetchall():\n",
    "    print(result)"
   ]
  },
  {
   "cell_type": "code",
   "execution_count": 8,
   "metadata": {},
   "outputs": [
    {
     "name": "stdout",
     "output_type": "stream",
     "text": [
      "(2,)\n"
     ]
    }
   ],
   "source": [
    "# Query with COUNT\n",
    "cursor.execute(\"SELECT COUNT(*) FROM testdb.employee WHERE salary > 45000\")\n",
    "for result in cursor.fetchall():\n",
    "    print(result)"
   ]
  }
 ],
 "metadata": {
  "kernelspec": {
   "display_name": "base",
   "language": "python",
   "name": "python3"
  },
  "language_info": {
   "codemirror_mode": {
    "name": "ipython",
    "version": 3
   },
   "file_extension": ".py",
   "mimetype": "text/x-python",
   "name": "python",
   "nbconvert_exporter": "python",
   "pygments_lexer": "ipython3",
   "version": "3.8.18"
  }
 },
 "nbformat": 4,
 "nbformat_minor": 2
}
