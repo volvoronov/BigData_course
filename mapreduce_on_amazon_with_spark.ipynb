{
 "cells": [
  {
   "cell_type": "markdown",
   "id": "97db3596",
   "metadata": {},
   "source": [
    "#### Final project: Computing the avarage rating of Amazon products using PySpark\n"
   ]
  },
  {
   "cell_type": "code",
   "execution_count": null,
   "id": "42206191",
   "metadata": {
    "vscode": {
     "languageId": "powershell"
    }
   },
   "outputs": [],
   "source": [
    "#docker command\n",
    "docker run -it \\\n",
    "  -v ./work:/home/jovyan/work \\\n",
    "  --user root \\\n",
    "  -e CHOWN_HOME=yes \\\n",
    "  -e CHOWN_HOME_OPTS='-R' \\\n",
    "  -p 8888:8888 \\\n",
    "  jupyter/pyspark-notebook"
   ]
  },
  {
   "cell_type": "code",
   "execution_count": 1,
   "id": "71ba77a8",
   "metadata": {},
   "outputs": [],
   "source": [
    "import pyspark\n",
    "import json\n",
    "import numpy as np"
   ]
  },
  {
   "cell_type": "code",
   "execution_count": 2,
   "metadata": {},
   "outputs": [],
   "source": [
    "# Smaller dataset that I used for testing\n",
    "DATA_PATH_FASHION = \"./work/AMAZON_FASHION_5.json\"\n",
    "# Main dataset\n",
    "DATA_PATH = \"./work/Grocery_and_Gourmet_Food_5.json\""
   ]
  },
  {
   "cell_type": "code",
   "execution_count": 3,
   "metadata": {},
   "outputs": [
    {
     "data": {
      "text/plain": [
       "'3.5.0'"
      ]
     },
     "execution_count": 3,
     "metadata": {},
     "output_type": "execute_result"
    }
   ],
   "source": [
    "# Create Spark Session\n",
    "spark = pyspark.sql.SparkSession.builder \\\n",
    "    .master(\"local[*]\") \\\n",
    "    .appName(\"Amazon Fashion\") \\\n",
    "    .getOrCreate()\n",
    "\n",
    "spark.version"
   ]
  },
  {
   "cell_type": "code",
   "execution_count": 4,
   "metadata": {},
   "outputs": [],
   "source": [
    "# Import dataset to Spark Resilient Distributed Dataset\n",
    "sc = spark.sparkContext\n",
    "json_rdd = sc.textFile(DATA_PATH)\n",
    "data_rdd = json_rdd.map(lambda x: json.loads(x))"
   ]
  },
  {
   "cell_type": "code",
   "execution_count": 5,
   "metadata": {},
   "outputs": [
    {
     "data": {
      "text/plain": [
       "1143860"
      ]
     },
     "execution_count": 5,
     "metadata": {},
     "output_type": "execute_result"
    }
   ],
   "source": [
    "# Check the number of reviews in the dataset\n",
    "# 1 143 860 records\n",
    "# 5.1 seconds\n",
    "data_rdd.count()"
   ]
  },
  {
   "cell_type": "code",
   "execution_count": 6,
   "metadata": {},
   "outputs": [
    {
     "data": {
      "text/plain": [
       "[{'overall': 5.0,\n",
       "  'verified': True,\n",
       "  'reviewTime': '11 19, 2014',\n",
       "  'reviewerID': 'A1QVBUH9E1V6I8',\n",
       "  'asin': '4639725183',\n",
       "  'reviewerName': 'Jamshed Mathur',\n",
       "  'reviewText': 'No adverse comment.',\n",
       "  'summary': 'Five Stars',\n",
       "  'unixReviewTime': 1416355200}]"
      ]
     },
     "execution_count": 6,
     "metadata": {},
     "output_type": "execute_result"
    }
   ],
   "source": [
    "# Data format\n",
    "\n",
    "data_rdd.take(1)"
   ]
  },
  {
   "cell_type": "markdown",
   "metadata": {},
   "source": [
    "#### Example 1: Average rating of Amazon products\n",
    "\n",
    "1. Map each review to a tuple of the form `(productID, (rating, 1.0))`\n",
    "2. Reduce the tuples by `productID` key to obtain `(productID, (sumOfRatings, totalRatingsCount))`\n",
    "3. Map each tuple to `(productID, sumOfRatings/totalRatingsCount)` to obtain the average rating per product"
   ]
  },
  {
   "cell_type": "code",
   "execution_count": 7,
   "metadata": {},
   "outputs": [
    {
     "data": {
      "text/plain": [
       "[('B000052X2S', 4.555555555555555),\n",
       " ('B0000CDBPT', 4.5),\n",
       " ('B0000D9MQV', 4.428571428571429),\n",
       " ('B0000DHZY1', 4.791666666666667),\n",
       " ('B0000DID5R', 4.4523809523809526)]"
      ]
     },
     "execution_count": 7,
     "metadata": {},
     "output_type": "execute_result"
    }
   ],
   "source": [
    "# Average rating of all products\n",
    "# 6.4 seconds\n",
    "avg_rating_by_product = data_rdd \\\n",
    "    .map(lambda x: (x['asin'], (x['overall'], 1))) \\\n",
    "    .reduceByKey(lambda x, y: (x[0] + y[0], x[1] + y[1])) \\\n",
    "    .map(lambda x: (x[0], x[1][0] / x[1][1]))\n",
    "\n",
    "avg_rating_by_product.take(5)"
   ]
  },
  {
   "cell_type": "markdown",
   "metadata": {},
   "source": [
    "#### Example 2: Filtering best rated products\n",
    "\n",
    "1. Use the previous result (it is possible to chain the operations in a single pipeline)\n",
    "2. Filter the products with average rating greater than `4.5`\n",
    "3. Map products to show only the `productID`.\n",
    "4. Collect the results in a list "
   ]
  },
  {
   "cell_type": "code",
   "execution_count": 11,
   "metadata": {},
   "outputs": [
    {
     "name": "stdout",
     "output_type": "stream",
     "text": [
      "20571\n",
      "['B000052X2S', 'B0000CDBPT', 'B0000DHZY1', 'B0000E5L25', 'B0000TW1NU']\n"
     ]
    }
   ],
   "source": [
    "# Select products with average rating >= 4.5\n",
    "# 0.8 seconds\n",
    "best_products = avg_rating_by_product \\\n",
    "    .filter(lambda x: x[1] >= 4.5) \\\n",
    "    .map(lambda x: x[0]) \\\n",
    "    .collect()\n",
    "\n",
    "print(len(best_products))\n",
    "print(best_products[:5])"
   ]
  },
  {
   "cell_type": "markdown",
   "metadata": {},
   "source": [
    "#### Example 3: Finding the favourite product by user\n",
    "\n",
    "1. Map each review to a tuple of the form `(userID, (productID, rating))`\n",
    "2. Group by key to obtain `(userID, [(productID, rating), (productID, rating), ...])`\n",
    "3. Map each tuple to `(userID, (productID, rating))` to obtain the favourite product by user. Selecting the product with maximum rating.\n",
    "\n",
    "P.S. It is rather proof of concept, because there can be many products with rating 5.0. More realistic approach would be select an iterable of such products."
   ]
  },
  {
   "cell_type": "code",
   "execution_count": 25,
   "metadata": {},
   "outputs": [
    {
     "data": {
      "text/plain": [
       "[('A3QHVBQYDV7Z6U', '4639725183'),\n",
       " ('A3KDQ6A29REK5K', '5463213682'),\n",
       " ('A1KGNAFK85SNID', '5463213682'),\n",
       " ('A1BJVYTBOS2AGM', '9742356831'),\n",
       " ('A31GYNW4UGVZNK', '9742356831')]"
      ]
     },
     "execution_count": 25,
     "metadata": {},
     "output_type": "execute_result"
    }
   ],
   "source": [
    "# Find the favourite product of each user\n",
    "# 1 minute\n",
    "favourite_product_by_user = data_rdd \\\n",
    "    .map(lambda x: (x['reviewerID'], (x['asin'], x['overall']))) \\\n",
    "    .groupByKey() \\\n",
    "    .map(lambda x: (x[0], max(x[1], key=lambda y: y[1])[0]))\n",
    "\n",
    "favourite_product_by_user.take(5)"
   ]
  }
 ],
 "metadata": {
  "kernelspec": {
   "display_name": "Python 3 (ipykernel)",
   "language": "python",
   "name": "python3"
  },
  "language_info": {
   "codemirror_mode": {
    "name": "ipython",
    "version": 3
   },
   "file_extension": ".py",
   "mimetype": "text/x-python",
   "name": "python",
   "nbconvert_exporter": "python",
   "pygments_lexer": "ipython3",
   "version": "3.11.6"
  }
 },
 "nbformat": 4,
 "nbformat_minor": 5
}
